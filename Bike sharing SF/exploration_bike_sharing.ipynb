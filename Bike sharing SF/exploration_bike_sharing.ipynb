{
 "cells": [
  {
   "cell_type": "markdown",
   "metadata": {},
   "source": [
    "# Bike Sharing Data Exploration\n",
    "## by Joana\n",
    "\n",
    "## Preliminary Wrangling\n",
    "\n",
    "> This document explores a dataset containing information for 3036496 rides of a bike sharing system in the San Francisco Bay Area"
   ]
  },
  {
   "cell_type": "code",
   "execution_count": 1,
   "metadata": {},
   "outputs": [],
   "source": [
    "# import all packages and set plots to be embedded inline\n",
    "import numpy as np\n",
    "import pandas as pd\n",
    "import matplotlib.pyplot as plt\n",
    "import seaborn as sb\n",
    "import os\n",
    "import glob\n",
    "import geopy\n",
    "from geopy import distance\n",
    "from sklearn.neighbors import DistanceMetric\n",
    "\n",
    "%matplotlib inline"
   ]
  },
  {
   "cell_type": "code",
   "execution_count": 117,
   "metadata": {},
   "outputs": [
    {
     "name": "stderr",
     "output_type": "stream",
     "text": [
      "C:\\Anacondapython\\lib\\site-packages\\IPython\\core\\interactiveshell.py:3063: DtypeWarning: Columns (13,14) have mixed types.Specify dtype option on import or set low_memory=False.\n",
      "  interactivity=interactivity, compiler=compiler, result=result)\n"
     ]
    }
   ],
   "source": [
    "df = pd.read_csv('bike_share_data')"
   ]
  },
  {
   "cell_type": "code",
   "execution_count": 2,
   "metadata": {},
   "outputs": [],
   "source": [
    "#Show all the text for all variables in dataframe\n",
    "pd.set_option('display.max_colwidth', None)\n",
    "pd.set_option('display.max_rows', None)\n",
    "pd.set_option('display.max_columns', None)"
   ]
  },
  {
   "cell_type": "code",
   "execution_count": 157,
   "metadata": {},
   "outputs": [],
   "source": [
    "dfs.to_csv('bike_share_data.csv')"
   ]
  },
  {
   "cell_type": "code",
   "execution_count": 118,
   "metadata": {},
   "outputs": [
    {
     "name": "stdout",
     "output_type": "stream",
     "text": [
      "<class 'pandas.core.frame.DataFrame'>\n",
      "RangeIndex: 3036496 entries, 0 to 3036495\n",
      "Data columns (total 15 columns):\n",
      " #   Column                   Dtype  \n",
      "---  ------                   -----  \n",
      " 0   duration_sec             int64  \n",
      " 1   start_time               object \n",
      " 2   end_time                 object \n",
      " 3   start_station_id         float64\n",
      " 4   start_station_name       object \n",
      " 5   start_station_latitude   float64\n",
      " 6   start_station_longitude  float64\n",
      " 7   end_station_id           float64\n",
      " 8   end_station_name         object \n",
      " 9   end_station_latitude     float64\n",
      " 10  end_station_longitude    float64\n",
      " 11  bike_id                  int64  \n",
      " 12  user_type                object \n",
      " 13  bike_share_for_all_trip  object \n",
      " 14  rental_access_method     object \n",
      "dtypes: float64(6), int64(2), object(7)\n",
      "memory usage: 347.5+ MB\n"
     ]
    }
   ],
   "source": [
    "df.info()"
   ]
  },
  {
   "cell_type": "code",
   "execution_count": 5,
   "metadata": {},
   "outputs": [],
   "source": [
    "#Make copy of dataframe\n",
    "df_copy = df.copy()"
   ]
  },
  {
   "cell_type": "code",
   "execution_count": 6,
   "metadata": {},
   "outputs": [],
   "source": [
    "#Converting integers to string\n",
    "df.start_station_id = df.start_station_id.astype(str)\n",
    "df.end_station_id = df.end_station_id.astype(str)\n",
    "df.bike_id = df.bike_id.astype(str)"
   ]
  },
  {
   "cell_type": "code",
   "execution_count": 7,
   "metadata": {},
   "outputs": [
    {
     "name": "stdout",
     "output_type": "stream",
     "text": [
      "<class 'pandas.core.frame.DataFrame'>\n",
      "RangeIndex: 3036496 entries, 0 to 3036495\n",
      "Data columns (total 15 columns):\n",
      " #   Column                   Dtype         \n",
      "---  ------                   -----         \n",
      " 0   duration_sec             int64         \n",
      " 1   start_time               datetime64[ns]\n",
      " 2   end_time                 datetime64[ns]\n",
      " 3   start_station_id         object        \n",
      " 4   start_station_name       object        \n",
      " 5   start_station_latitude   float64       \n",
      " 6   start_station_longitude  float64       \n",
      " 7   end_station_id           object        \n",
      " 8   end_station_name         object        \n",
      " 9   end_station_latitude     float64       \n",
      " 10  end_station_longitude    float64       \n",
      " 11  bike_id                  object        \n",
      " 12  user_type                object        \n",
      " 13  bike_share_for_all_trip  object        \n",
      " 14  rental_access_method     object        \n",
      "dtypes: datetime64[ns](2), float64(4), int64(1), object(8)\n",
      "memory usage: 347.5+ MB\n"
     ]
    }
   ],
   "source": [
    "#Converting object to datetime\n",
    "df['start_time']= pd.to_datetime(df['start_time']) \n",
    "df['end_time']= pd.to_datetime(df['end_time']) \n",
    "df.info()"
   ]
  },
  {
   "cell_type": "code",
   "execution_count": 8,
   "metadata": {},
   "outputs": [
    {
     "data": {
      "text/html": [
       "<div>\n",
       "<style scoped>\n",
       "    .dataframe tbody tr th:only-of-type {\n",
       "        vertical-align: middle;\n",
       "    }\n",
       "\n",
       "    .dataframe tbody tr th {\n",
       "        vertical-align: top;\n",
       "    }\n",
       "\n",
       "    .dataframe thead th {\n",
       "        text-align: right;\n",
       "    }\n",
       "</style>\n",
       "<table border=\"1\" class=\"dataframe\">\n",
       "  <thead>\n",
       "    <tr style=\"text-align: right;\">\n",
       "      <th></th>\n",
       "      <th>duration_sec</th>\n",
       "      <th>start_time</th>\n",
       "      <th>end_time</th>\n",
       "      <th>start_station_id</th>\n",
       "      <th>start_station_name</th>\n",
       "      <th>start_station_latitude</th>\n",
       "      <th>start_station_longitude</th>\n",
       "      <th>end_station_id</th>\n",
       "      <th>end_station_name</th>\n",
       "      <th>end_station_latitude</th>\n",
       "      <th>end_station_longitude</th>\n",
       "      <th>bike_id</th>\n",
       "      <th>user_type</th>\n",
       "      <th>bike_share_for_all_trip</th>\n",
       "      <th>rental_access_method</th>\n",
       "    </tr>\n",
       "  </thead>\n",
       "  <tbody>\n",
       "    <tr>\n",
       "      <th>0</th>\n",
       "      <td>53588</td>\n",
       "      <td>2019-03-31 20:59:21.878</td>\n",
       "      <td>2019-04-01 11:52:30.200</td>\n",
       "      <td>377.0</td>\n",
       "      <td>Fell St at Stanyan St</td>\n",
       "      <td>37.771917</td>\n",
       "      <td>-122.453704</td>\n",
       "      <td>377.0</td>\n",
       "      <td>Fell St at Stanyan St</td>\n",
       "      <td>37.771917</td>\n",
       "      <td>-122.453704</td>\n",
       "      <td>6803</td>\n",
       "      <td>Subscriber</td>\n",
       "      <td>No</td>\n",
       "      <td>NaN</td>\n",
       "    </tr>\n",
       "    <tr>\n",
       "      <th>1</th>\n",
       "      <td>74305</td>\n",
       "      <td>2019-03-31 13:56:46.005</td>\n",
       "      <td>2019-04-01 10:35:11.454</td>\n",
       "      <td>385.0</td>\n",
       "      <td>Woolsey St at Sacramento St</td>\n",
       "      <td>37.850578</td>\n",
       "      <td>-122.278175</td>\n",
       "      <td>233.0</td>\n",
       "      <td>4th Ave at E 12th St (Temporary Location)</td>\n",
       "      <td>37.795913</td>\n",
       "      <td>-122.255547</td>\n",
       "      <td>6415</td>\n",
       "      <td>Subscriber</td>\n",
       "      <td>No</td>\n",
       "      <td>NaN</td>\n",
       "    </tr>\n",
       "    <tr>\n",
       "      <th>2</th>\n",
       "      <td>79789</td>\n",
       "      <td>2019-03-31 11:48:34.201</td>\n",
       "      <td>2019-04-01 09:58:23.824</td>\n",
       "      <td>3.0</td>\n",
       "      <td>Powell St BART Station (Market St at 4th St)</td>\n",
       "      <td>37.786375</td>\n",
       "      <td>-122.404904</td>\n",
       "      <td>345.0</td>\n",
       "      <td>Hubbell St at 16th St</td>\n",
       "      <td>37.766483</td>\n",
       "      <td>-122.398279</td>\n",
       "      <td>2317</td>\n",
       "      <td>Customer</td>\n",
       "      <td>No</td>\n",
       "      <td>NaN</td>\n",
       "    </tr>\n",
       "    <tr>\n",
       "      <th>3</th>\n",
       "      <td>59315</td>\n",
       "      <td>2019-03-31 16:48:54.374</td>\n",
       "      <td>2019-04-01 09:17:30.154</td>\n",
       "      <td>92.0</td>\n",
       "      <td>Mission Bay Kids Park</td>\n",
       "      <td>37.772301</td>\n",
       "      <td>-122.393028</td>\n",
       "      <td>49.0</td>\n",
       "      <td>S Park St at 3rd St</td>\n",
       "      <td>37.780760</td>\n",
       "      <td>-122.394989</td>\n",
       "      <td>6631</td>\n",
       "      <td>Customer</td>\n",
       "      <td>No</td>\n",
       "      <td>NaN</td>\n",
       "    </tr>\n",
       "    <tr>\n",
       "      <th>4</th>\n",
       "      <td>47886</td>\n",
       "      <td>2019-03-31 19:54:24.148</td>\n",
       "      <td>2019-04-01 09:12:30.817</td>\n",
       "      <td>339.0</td>\n",
       "      <td>Jackson St at 11th St</td>\n",
       "      <td>37.800002</td>\n",
       "      <td>-122.266438</td>\n",
       "      <td>18.0</td>\n",
       "      <td>Telegraph Ave at Alcatraz Ave</td>\n",
       "      <td>37.850222</td>\n",
       "      <td>-122.260172</td>\n",
       "      <td>5241</td>\n",
       "      <td>Subscriber</td>\n",
       "      <td>No</td>\n",
       "      <td>NaN</td>\n",
       "    </tr>\n",
       "  </tbody>\n",
       "</table>\n",
       "</div>"
      ],
      "text/plain": [
       "   duration_sec              start_time                end_time  \\\n",
       "0         53588 2019-03-31 20:59:21.878 2019-04-01 11:52:30.200   \n",
       "1         74305 2019-03-31 13:56:46.005 2019-04-01 10:35:11.454   \n",
       "2         79789 2019-03-31 11:48:34.201 2019-04-01 09:58:23.824   \n",
       "3         59315 2019-03-31 16:48:54.374 2019-04-01 09:17:30.154   \n",
       "4         47886 2019-03-31 19:54:24.148 2019-04-01 09:12:30.817   \n",
       "\n",
       "  start_station_id                            start_station_name  \\\n",
       "0            377.0                         Fell St at Stanyan St   \n",
       "1            385.0                   Woolsey St at Sacramento St   \n",
       "2              3.0  Powell St BART Station (Market St at 4th St)   \n",
       "3             92.0                         Mission Bay Kids Park   \n",
       "4            339.0                         Jackson St at 11th St   \n",
       "\n",
       "   start_station_latitude  start_station_longitude end_station_id  \\\n",
       "0               37.771917              -122.453704          377.0   \n",
       "1               37.850578              -122.278175          233.0   \n",
       "2               37.786375              -122.404904          345.0   \n",
       "3               37.772301              -122.393028           49.0   \n",
       "4               37.800002              -122.266438           18.0   \n",
       "\n",
       "                            end_station_name  end_station_latitude  \\\n",
       "0                      Fell St at Stanyan St             37.771917   \n",
       "1  4th Ave at E 12th St (Temporary Location)             37.795913   \n",
       "2                      Hubbell St at 16th St             37.766483   \n",
       "3                        S Park St at 3rd St             37.780760   \n",
       "4              Telegraph Ave at Alcatraz Ave             37.850222   \n",
       "\n",
       "   end_station_longitude bike_id   user_type bike_share_for_all_trip  \\\n",
       "0            -122.453704    6803  Subscriber                      No   \n",
       "1            -122.255547    6415  Subscriber                      No   \n",
       "2            -122.398279    2317    Customer                      No   \n",
       "3            -122.394989    6631    Customer                      No   \n",
       "4            -122.260172    5241  Subscriber                      No   \n",
       "\n",
       "  rental_access_method  \n",
       "0                  NaN  \n",
       "1                  NaN  \n",
       "2                  NaN  \n",
       "3                  NaN  \n",
       "4                  NaN  "
      ]
     },
     "execution_count": 8,
     "metadata": {},
     "output_type": "execute_result"
    }
   ],
   "source": [
    "df.head()"
   ]
  },
  {
   "cell_type": "code",
   "execution_count": 9,
   "metadata": {},
   "outputs": [
    {
     "data": {
      "text/html": [
       "<div>\n",
       "<style scoped>\n",
       "    .dataframe tbody tr th:only-of-type {\n",
       "        vertical-align: middle;\n",
       "    }\n",
       "\n",
       "    .dataframe tbody tr th {\n",
       "        vertical-align: top;\n",
       "    }\n",
       "\n",
       "    .dataframe thead th {\n",
       "        text-align: right;\n",
       "    }\n",
       "</style>\n",
       "<table border=\"1\" class=\"dataframe\">\n",
       "  <thead>\n",
       "    <tr style=\"text-align: right;\">\n",
       "      <th></th>\n",
       "      <th>duration_sec</th>\n",
       "      <th>start_time</th>\n",
       "      <th>end_time</th>\n",
       "      <th>start_station_id</th>\n",
       "      <th>start_station_name</th>\n",
       "      <th>start_station_latitude</th>\n",
       "      <th>start_station_longitude</th>\n",
       "      <th>end_station_id</th>\n",
       "      <th>end_station_name</th>\n",
       "      <th>end_station_latitude</th>\n",
       "      <th>end_station_longitude</th>\n",
       "      <th>bike_id</th>\n",
       "      <th>user_type</th>\n",
       "      <th>bike_share_for_all_trip</th>\n",
       "      <th>rental_access_method</th>\n",
       "    </tr>\n",
       "  </thead>\n",
       "  <tbody>\n",
       "    <tr>\n",
       "      <th>3036491</th>\n",
       "      <td>61</td>\n",
       "      <td>2020-04-01 10:42:35</td>\n",
       "      <td>2020-04-01 10:43:37</td>\n",
       "      <td>nan</td>\n",
       "      <td>NaN</td>\n",
       "      <td>37.848493</td>\n",
       "      <td>-122.265797</td>\n",
       "      <td>nan</td>\n",
       "      <td>NaN</td>\n",
       "      <td>37.848476</td>\n",
       "      <td>-122.265779</td>\n",
       "      <td>999960</td>\n",
       "      <td>Subscriber</td>\n",
       "      <td>NaN</td>\n",
       "      <td>app</td>\n",
       "    </tr>\n",
       "    <tr>\n",
       "      <th>3036492</th>\n",
       "      <td>78</td>\n",
       "      <td>2020-03-18 17:10:42</td>\n",
       "      <td>2020-03-18 17:12:01</td>\n",
       "      <td>nan</td>\n",
       "      <td>NaN</td>\n",
       "      <td>37.848499</td>\n",
       "      <td>-122.265794</td>\n",
       "      <td>nan</td>\n",
       "      <td>NaN</td>\n",
       "      <td>37.848477</td>\n",
       "      <td>-122.265815</td>\n",
       "      <td>999960</td>\n",
       "      <td>Subscriber</td>\n",
       "      <td>NaN</td>\n",
       "      <td>app</td>\n",
       "    </tr>\n",
       "    <tr>\n",
       "      <th>3036493</th>\n",
       "      <td>122</td>\n",
       "      <td>2020-04-01 13:32:28</td>\n",
       "      <td>2020-04-01 13:34:31</td>\n",
       "      <td>nan</td>\n",
       "      <td>NaN</td>\n",
       "      <td>37.848507</td>\n",
       "      <td>-122.266010</td>\n",
       "      <td>nan</td>\n",
       "      <td>NaN</td>\n",
       "      <td>37.848485</td>\n",
       "      <td>-122.266063</td>\n",
       "      <td>633095</td>\n",
       "      <td>Subscriber</td>\n",
       "      <td>NaN</td>\n",
       "      <td>app</td>\n",
       "    </tr>\n",
       "    <tr>\n",
       "      <th>3036494</th>\n",
       "      <td>340</td>\n",
       "      <td>2020-04-01 13:07:34</td>\n",
       "      <td>2020-04-01 13:13:14</td>\n",
       "      <td>nan</td>\n",
       "      <td>NaN</td>\n",
       "      <td>37.848530</td>\n",
       "      <td>-122.266013</td>\n",
       "      <td>nan</td>\n",
       "      <td>NaN</td>\n",
       "      <td>37.848497</td>\n",
       "      <td>-122.266029</td>\n",
       "      <td>633095</td>\n",
       "      <td>Subscriber</td>\n",
       "      <td>NaN</td>\n",
       "      <td>app</td>\n",
       "    </tr>\n",
       "    <tr>\n",
       "      <th>3036495</th>\n",
       "      <td>333</td>\n",
       "      <td>2020-03-23 16:39:57</td>\n",
       "      <td>2020-03-23 16:45:30</td>\n",
       "      <td>nan</td>\n",
       "      <td>NaN</td>\n",
       "      <td>37.848625</td>\n",
       "      <td>-122.266660</td>\n",
       "      <td>nan</td>\n",
       "      <td>NaN</td>\n",
       "      <td>37.848446</td>\n",
       "      <td>-122.266022</td>\n",
       "      <td>633095</td>\n",
       "      <td>Subscriber</td>\n",
       "      <td>NaN</td>\n",
       "      <td>app</td>\n",
       "    </tr>\n",
       "  </tbody>\n",
       "</table>\n",
       "</div>"
      ],
      "text/plain": [
       "         duration_sec          start_time            end_time  \\\n",
       "3036491            61 2020-04-01 10:42:35 2020-04-01 10:43:37   \n",
       "3036492            78 2020-03-18 17:10:42 2020-03-18 17:12:01   \n",
       "3036493           122 2020-04-01 13:32:28 2020-04-01 13:34:31   \n",
       "3036494           340 2020-04-01 13:07:34 2020-04-01 13:13:14   \n",
       "3036495           333 2020-03-23 16:39:57 2020-03-23 16:45:30   \n",
       "\n",
       "        start_station_id start_station_name  start_station_latitude  \\\n",
       "3036491              nan                NaN               37.848493   \n",
       "3036492              nan                NaN               37.848499   \n",
       "3036493              nan                NaN               37.848507   \n",
       "3036494              nan                NaN               37.848530   \n",
       "3036495              nan                NaN               37.848625   \n",
       "\n",
       "         start_station_longitude end_station_id end_station_name  \\\n",
       "3036491              -122.265797            nan              NaN   \n",
       "3036492              -122.265794            nan              NaN   \n",
       "3036493              -122.266010            nan              NaN   \n",
       "3036494              -122.266013            nan              NaN   \n",
       "3036495              -122.266660            nan              NaN   \n",
       "\n",
       "         end_station_latitude  end_station_longitude bike_id   user_type  \\\n",
       "3036491             37.848476            -122.265779  999960  Subscriber   \n",
       "3036492             37.848477            -122.265815  999960  Subscriber   \n",
       "3036493             37.848485            -122.266063  633095  Subscriber   \n",
       "3036494             37.848497            -122.266029  633095  Subscriber   \n",
       "3036495             37.848446            -122.266022  633095  Subscriber   \n",
       "\n",
       "        bike_share_for_all_trip rental_access_method  \n",
       "3036491                     NaN                  app  \n",
       "3036492                     NaN                  app  \n",
       "3036493                     NaN                  app  \n",
       "3036494                     NaN                  app  \n",
       "3036495                     NaN                  app  "
      ]
     },
     "execution_count": 9,
     "metadata": {},
     "output_type": "execute_result"
    }
   ],
   "source": [
    "df.tail()"
   ]
  },
  {
   "cell_type": "code",
   "execution_count": 10,
   "metadata": {},
   "outputs": [
    {
     "name": "stdout",
     "output_type": "stream",
     "text": [
      "<class 'pandas.core.frame.DataFrame'>\n",
      "RangeIndex: 3036496 entries, 0 to 3036495\n",
      "Data columns (total 15 columns):\n",
      " #   Column                   Dtype         \n",
      "---  ------                   -----         \n",
      " 0   duration_sec             int64         \n",
      " 1   start_time               datetime64[ns]\n",
      " 2   end_time                 datetime64[ns]\n",
      " 3   start_station_id         object        \n",
      " 4   start_station_name       object        \n",
      " 5   start_station_latitude   float64       \n",
      " 6   start_station_longitude  float64       \n",
      " 7   end_station_id           object        \n",
      " 8   end_station_name         object        \n",
      " 9   end_station_latitude     float64       \n",
      " 10  end_station_longitude    float64       \n",
      " 11  bike_id                  object        \n",
      " 12  user_type                object        \n",
      " 13  bike_share_for_all_trip  object        \n",
      " 14  rental_access_method     object        \n",
      "dtypes: datetime64[ns](2), float64(4), int64(1), object(8)\n",
      "memory usage: 347.5+ MB\n"
     ]
    }
   ],
   "source": [
    "df.info()"
   ]
  },
  {
   "cell_type": "code",
   "execution_count": 11,
   "metadata": {},
   "outputs": [
    {
     "data": {
      "text/html": [
       "<div>\n",
       "<style scoped>\n",
       "    .dataframe tbody tr th:only-of-type {\n",
       "        vertical-align: middle;\n",
       "    }\n",
       "\n",
       "    .dataframe tbody tr th {\n",
       "        vertical-align: top;\n",
       "    }\n",
       "\n",
       "    .dataframe thead th {\n",
       "        text-align: right;\n",
       "    }\n",
       "</style>\n",
       "<table border=\"1\" class=\"dataframe\">\n",
       "  <thead>\n",
       "    <tr style=\"text-align: right;\">\n",
       "      <th></th>\n",
       "      <th>duration_sec</th>\n",
       "      <th>start_station_latitude</th>\n",
       "      <th>start_station_longitude</th>\n",
       "      <th>end_station_latitude</th>\n",
       "      <th>end_station_longitude</th>\n",
       "    </tr>\n",
       "  </thead>\n",
       "  <tbody>\n",
       "    <tr>\n",
       "      <th>count</th>\n",
       "      <td>3.036496e+06</td>\n",
       "      <td>3.036496e+06</td>\n",
       "      <td>3.036496e+06</td>\n",
       "      <td>3.036496e+06</td>\n",
       "      <td>3.036496e+06</td>\n",
       "    </tr>\n",
       "    <tr>\n",
       "      <th>mean</th>\n",
       "      <td>8.159040e+02</td>\n",
       "      <td>3.775906e+01</td>\n",
       "      <td>-1.223513e+02</td>\n",
       "      <td>3.775821e+01</td>\n",
       "      <td>-1.223474e+02</td>\n",
       "    </tr>\n",
       "    <tr>\n",
       "      <th>std</th>\n",
       "      <td>1.913268e+03</td>\n",
       "      <td>1.730132e-01</td>\n",
       "      <td>4.490454e-01</td>\n",
       "      <td>2.606699e-01</td>\n",
       "      <td>7.751218e-01</td>\n",
       "    </tr>\n",
       "    <tr>\n",
       "      <th>min</th>\n",
       "      <td>6.000000e+01</td>\n",
       "      <td>0.000000e+00</td>\n",
       "      <td>-1.225143e+02</td>\n",
       "      <td>0.000000e+00</td>\n",
       "      <td>-1.225758e+02</td>\n",
       "    </tr>\n",
       "    <tr>\n",
       "      <th>25%</th>\n",
       "      <td>3.670000e+02</td>\n",
       "      <td>3.776750e+01</td>\n",
       "      <td>-1.224163e+02</td>\n",
       "      <td>3.776835e+01</td>\n",
       "      <td>-1.224143e+02</td>\n",
       "    </tr>\n",
       "    <tr>\n",
       "      <th>50%</th>\n",
       "      <td>5.840000e+02</td>\n",
       "      <td>3.777877e+01</td>\n",
       "      <td>-1.223997e+02</td>\n",
       "      <td>3.777922e+01</td>\n",
       "      <td>-1.223991e+02</td>\n",
       "    </tr>\n",
       "    <tr>\n",
       "      <th>75%</th>\n",
       "      <td>9.100000e+02</td>\n",
       "      <td>3.779429e+01</td>\n",
       "      <td>-1.223889e+02</td>\n",
       "      <td>3.779500e+01</td>\n",
       "      <td>-1.223889e+02</td>\n",
       "    </tr>\n",
       "    <tr>\n",
       "      <th>max</th>\n",
       "      <td>9.121100e+05</td>\n",
       "      <td>4.551000e+01</td>\n",
       "      <td>0.000000e+00</td>\n",
       "      <td>4.551000e+01</td>\n",
       "      <td>0.000000e+00</td>\n",
       "    </tr>\n",
       "  </tbody>\n",
       "</table>\n",
       "</div>"
      ],
      "text/plain": [
       "       duration_sec  start_station_latitude  start_station_longitude  \\\n",
       "count  3.036496e+06            3.036496e+06             3.036496e+06   \n",
       "mean   8.159040e+02            3.775906e+01            -1.223513e+02   \n",
       "std    1.913268e+03            1.730132e-01             4.490454e-01   \n",
       "min    6.000000e+01            0.000000e+00            -1.225143e+02   \n",
       "25%    3.670000e+02            3.776750e+01            -1.224163e+02   \n",
       "50%    5.840000e+02            3.777877e+01            -1.223997e+02   \n",
       "75%    9.100000e+02            3.779429e+01            -1.223889e+02   \n",
       "max    9.121100e+05            4.551000e+01             0.000000e+00   \n",
       "\n",
       "       end_station_latitude  end_station_longitude  \n",
       "count          3.036496e+06           3.036496e+06  \n",
       "mean           3.775821e+01          -1.223474e+02  \n",
       "std            2.606699e-01           7.751218e-01  \n",
       "min            0.000000e+00          -1.225758e+02  \n",
       "25%            3.776835e+01          -1.224143e+02  \n",
       "50%            3.777922e+01          -1.223991e+02  \n",
       "75%            3.779500e+01          -1.223889e+02  \n",
       "max            4.551000e+01           0.000000e+00  "
      ]
     },
     "execution_count": 11,
     "metadata": {},
     "output_type": "execute_result"
    }
   ],
   "source": [
    "df.describe()"
   ]
  },
  {
   "cell_type": "markdown",
   "metadata": {},
   "source": [
    "### What is the structure of your dataset?\n",
    "\n",
    "> This dataset contains information about 3036496 rides between April 2019 and March 2020. \n",
    "     For each **ride** it has information about: \n",
    "         - its duration  \n",
    "         - start time  \n",
    "         - end time. \n",
    "     >It also has information about the **start and end stations**: \n",
    "         - id \n",
    "         - name \n",
    "         - latitude \n",
    "         - longitude. \n",
    "     >Finally, it also has information regarding the **bike id, the type of user, whether the user used other means of transports during their trip other than bike or not, and the rental access method**. \n",
    "      \n",
    ">So, in total, for each ride we have **15** features. \n",
    "      \n",
    "      \n",
    "      \n",
    "### What is/are the main feature(s) of interest in your dataset? \n",
    "      \n",
    ">I'm interested in discovering patterns in bike utilization and number of rides, considering, for example, time of the day, distance, locations (most crowded  stations), user type, etc.\n",
    "      \n",
    "### What features in the dataset do you think will help support your investigation into your feature(s) of interest? \n",
    "      \n",
    ">Duration and start time might be helful to understand trends in bike utilization - is there a lot of demand on a specific time of the day (for example, during the rush hour)? \n",
    "      \n",
    ">Latitude and Longitude will be helpful to analyse distances. \n",
    "      \n",
    ">Stations' names will be helpful to understand if bike utilization is particularly high in specific areas.   \n",
    "      \n",
    ">As this is a bike sharing service, I expect the bikes to be used mostly during short periods of time, mainly during rush hour and in areas with high affluence of people (city centre...) "
   ]
  },
  {
   "cell_type": "markdown",
   "metadata": {},
   "source": [
    "## Univariate Exploration\n",
    "\n",
    "> In this section, investigate distributions of individual variables. If\n",
    "you see unusual points or outliers, take a deeper look to clean things up\n",
    "and prepare yourself to look at relationships between variables."
   ]
  },
  {
   "cell_type": "code",
   "execution_count": 12,
   "metadata": {},
   "outputs": [
    {
     "data": {
      "image/png": "[encoded data removed]",
      "text/plain": [
       "<Figure size 576x360 with 1 Axes>"
      ]
     },
     "metadata": {
      "needs_background": "light"
     },
     "output_type": "display_data"
    }
   ],
   "source": [
    "# Standard-scaled plot\n",
    "bins = np.arange(0, df['duration_sec'].max()+1000, 20000)\n",
    "plt.figure(figsize=[8, 5])\n",
    "plt.hist(data = df, x = 'duration_sec', bins = bins)\n",
    "plt.xlabel('Ride Duration')\n",
    "plt.ylabel('Number of Rides')\n",
    "plt.show()"
   ]
  },
  {
   "cell_type": "markdown",
   "metadata": {},
   "source": [
    "> Clearly this interval is not appropriate to plot the data because of extreme values. Let's try to get a better idea of the distribution of ride duration by zooming in the scale"
   ]
  },
  {
   "cell_type": "code",
   "execution_count": 13,
   "metadata": {},
   "outputs": [
    {
     "data": {
      "image/png": "[encoded data removed]",
      "text/plain": [
       "<Figure size 576x360 with 1 Axes>"
      ]
     },
     "metadata": {
      "needs_background": "light"
     },
     "output_type": "display_data"
    }
   ],
   "source": [
    "# Standard-scaled plot - adjusted scale (excluding very long ride durations!)\n",
    "bins = np.arange(0, 5000, 100)\n",
    "plt.figure(figsize=[8, 5])\n",
    "plt.hist(data = df, x = 'duration_sec', bins = bins)\n",
    "plt.xlabel('Ride Duration')\n",
    "plt.ylabel('Number of Rides')\n",
    "plt.show()"
   ]
  },
  {
   "cell_type": "code",
   "execution_count": 14,
   "metadata": {},
   "outputs": [
    {
     "data": {
      "image/png": "[encoded data removed]",
      "text/plain": [
       "<Figure size 576x360 with 1 Axes>"
      ]
     },
     "metadata": {
      "needs_background": "light"
     },
     "output_type": "display_data"
    }
   ],
   "source": [
    "# There's a long tail in the distribution, so let's put it on a log scale instead\n",
    "log_binsize = 0.025\n",
    "bins = 10 ** np.arange(0, np.log10(df['duration_sec'].max())+log_binsize, log_binsize)\n",
    "plt.figure(figsize=[8, 5])\n",
    "plt.hist(data = df, x = 'duration_sec', bins = bins)\n",
    "plt.xscale('log')\n",
    "plt.xticks([10, 90, 500, 3000, 20000, 100000], [10, 90, 500, '3k', '20k', '100k'])\n",
    "plt.xlabel('Ride Duration')\n",
    "plt.ylabel('Number of Rides')\n",
    "plt.show()"
   ]
  },
  {
   "cell_type": "code",
   "execution_count": 15,
   "metadata": {},
   "outputs": [],
   "source": [
    "#Let's create a table with seconds converted to hours so that it's easier to interpret \n",
    "df['duration_hour'] = df['duration_sec'].div(360)"
   ]
  },
  {
   "cell_type": "code",
   "execution_count": 16,
   "metadata": {},
   "outputs": [
    {
     "data": {
      "text/plain": [
       "2533.6388888888887"
      ]
     },
     "execution_count": 16,
     "metadata": {},
     "output_type": "execute_result"
    }
   ],
   "source": [
    "df.duration_hour.max()"
   ]
  },
  {
   "cell_type": "code",
   "execution_count": 17,
   "metadata": {},
   "outputs": [
    {
     "data": {
      "image/png": "[encoded data removed]",
      "text/plain": [
       "<Figure size 576x360 with 1 Axes>"
      ]
     },
     "metadata": {
      "needs_background": "light"
     },
     "output_type": "display_data"
    }
   ],
   "source": [
    "# Standard-scaled plot - adjusted scale (excluding very long ride durations!)\n",
    "bins = np.arange(0, 20, 0.1)\n",
    "plt.figure(figsize=[8, 5])\n",
    "plt.hist(data = df, x = 'duration_hour', bins = bins)\n",
    "plt.xlabel('Ride Duration')\n",
    "plt.ylabel('Number of Rides')\n",
    "plt.show()"
   ]
  },
  {
   "cell_type": "markdown",
   "metadata": {},
   "source": [
    "Ride duration has a long-tailed distribution, with a lot of rides with shorter durations, and few with longer durations. When plotted on a log-scale, the price distribution looks unimodal, with one peak between around 500 seconds (~1.5h)\n",
    "\n",
    "Next up, I'll look at some other informations that this dataset gives us."
   ]
  },
  {
   "cell_type": "code",
   "execution_count": 18,
   "metadata": {},
   "outputs": [
    {
     "data": {
      "text/plain": [
       "Subscriber    2233586\n",
       "Customer       802910\n",
       "Name: user_type, dtype: int64"
      ]
     },
     "execution_count": 18,
     "metadata": {},
     "output_type": "execute_result"
    }
   ],
   "source": [
    "df.user_type.value_counts().nlargest(5)"
   ]
  },
  {
   "cell_type": "code",
   "execution_count": 19,
   "metadata": {},
   "outputs": [
    {
     "data": {
      "text/plain": [
       "Market St at 10th St                                         44977\n",
       "Berry St at 4th St                                           43337\n",
       "San Francisco Caltrain (Townsend St at 4th St)               41908\n",
       "San Francisco Ferry Building (Harry Bridges Plaza)           37914\n",
       "Montgomery St BART Station (Market St at 2nd St)             34464\n",
       "Powell St BART Station (Market St at 4th St)                 33294\n",
       "Howard St at Beale St                                        31707\n",
       "Powell St BART Station (Market St at 5th St)                 30327\n",
       "San Francisco Caltrain Station 2  (Townsend St at 4th St)    29257\n",
       "Steuart St at Market St                                      28119\n",
       "Name: start_station_name, dtype: int64"
      ]
     },
     "execution_count": 19,
     "metadata": {},
     "output_type": "execute_result"
    }
   ],
   "source": [
    "df.start_station_name.value_counts().nlargest(10)"
   ]
  },
  {
   "cell_type": "code",
   "execution_count": 20,
   "metadata": {
    "scrolled": true
   },
   "outputs": [
    {
     "data": {
      "text/plain": [
       "San Francisco Caltrain (Townsend St at 4th St)               57994\n",
       "Montgomery St BART Station (Market St at 2nd St)             48375\n",
       "San Francisco Ferry Building (Harry Bridges Plaza)           47783\n",
       "Market St at 10th St                                         44134\n",
       "Berry St at 4th St                                           43472\n",
       "San Francisco Caltrain Station 2  (Townsend St at 4th St)    42045\n",
       "Powell St BART Station (Market St at 4th St)                 36976\n",
       "Powell St BART Station (Market St at 5th St)                 31410\n",
       "The Embarcadero at Sansome St                                30953\n",
       "Howard St at Beale St                                        30168\n",
       "Name: end_station_name, dtype: int64"
      ]
     },
     "execution_count": 20,
     "metadata": {},
     "output_type": "execute_result"
    }
   ],
   "source": [
    "df.end_station_name.value_counts().nlargest(10)"
   ]
  },
  {
   "cell_type": "code",
   "execution_count": 21,
   "metadata": {},
   "outputs": [
    {
     "data": {
      "text/plain": [
       "start_station_name                                  end_station_name                                  \n",
       "Berry St at 4th St                                  San Francisco Ferry Building (Harry Bridges Plaza)    4697\n",
       "San Francisco Ferry Building (Harry Bridges Plaza)  The Embarcadero at Sansome St                         4617\n",
       "Bryant St at 2nd St                                 Montgomery St BART Station (Market St at 2nd St)      3675\n",
       "Grand Ave at Perkins St                             19th Street BART Station                              3516\n",
       "The Embarcadero at Sansome St                       Steuart St at Market St                               3264\n",
       "19th Street BART Station                            Grand Ave at Perkins St                               3261\n",
       "The Embarcadero at Sansome St                       San Francisco Ferry Building (Harry Bridges Plaza)    3116\n",
       "San Francisco Ferry Building (Harry Bridges Plaza)  Berry St at 4th St                                    3099\n",
       "2nd St at Townsend St                               Montgomery St BART Station (Market St at 2nd St)      2862\n",
       "Market St at 10th St                                Powell St BART Station (Market St at 4th St)          2824\n",
       "dtype: int64"
      ]
     },
     "execution_count": 21,
     "metadata": {},
     "output_type": "execute_result"
    }
   ],
   "source": [
    "df.groupby([\"start_station_name\", \"end_station_name\"]).size().sort_values(ascending=False).head(10)"
   ]
  },
  {
   "cell_type": "code",
   "execution_count": 22,
   "metadata": {},
   "outputs": [
    {
     "data": {
      "text/plain": [
       "2105782    912110\n",
       "2252657    811077\n",
       "2478961     86317\n",
       "2518473     86239\n",
       "2010043     86230\n",
       "2181415     86221\n",
       "890173      86217\n",
       "268966      86114\n",
       "1366477     86114\n",
       "2195166     85994\n",
       "789807      85952\n",
       "1814656     85935\n",
       "797444      85904\n",
       "1373782     85702\n",
       "134643      85676\n",
       "1640895     85545\n",
       "2072532     85523\n",
       "326382      85496\n",
       "1264975     85492\n",
       "869345      85457\n",
       "Name: duration_sec, dtype: int64"
      ]
     },
     "execution_count": 22,
     "metadata": {},
     "output_type": "execute_result"
    }
   ],
   "source": [
    "df.duration_sec.nlargest(20)"
   ]
  },
  {
   "cell_type": "code",
   "execution_count": 23,
   "metadata": {},
   "outputs": [
    {
     "data": {
      "text/plain": [
       "array([nan, 'app', 'clipper'], dtype=object)"
      ]
     },
     "execution_count": 23,
     "metadata": {},
     "output_type": "execute_result"
    }
   ],
   "source": [
    "df.rental_access_method.unique()"
   ]
  },
  {
   "cell_type": "code",
   "execution_count": 24,
   "metadata": {},
   "outputs": [
    {
     "data": {
      "text/plain": [
       "array(['Subscriber', 'Customer'], dtype=object)"
      ]
     },
     "execution_count": 24,
     "metadata": {},
     "output_type": "execute_result"
    }
   ],
   "source": [
    "df.user_type.unique()"
   ]
  },
  {
   "cell_type": "code",
   "execution_count": 25,
   "metadata": {},
   "outputs": [
    {
     "name": "stdout",
     "output_type": "stream",
     "text": [
      "<class 'pandas.core.frame.DataFrame'>\n",
      "RangeIndex: 3036496 entries, 0 to 3036495\n",
      "Data columns (total 16 columns):\n",
      " #   Column                   Dtype         \n",
      "---  ------                   -----         \n",
      " 0   duration_sec             int64         \n",
      " 1   start_time               datetime64[ns]\n",
      " 2   end_time                 datetime64[ns]\n",
      " 3   start_station_id         object        \n",
      " 4   start_station_name       object        \n",
      " 5   start_station_latitude   float64       \n",
      " 6   start_station_longitude  float64       \n",
      " 7   end_station_id           object        \n",
      " 8   end_station_name         object        \n",
      " 9   end_station_latitude     float64       \n",
      " 10  end_station_longitude    float64       \n",
      " 11  bike_id                  object        \n",
      " 12  user_type                object        \n",
      " 13  bike_share_for_all_trip  object        \n",
      " 14  rental_access_method     object        \n",
      " 15  duration_hour            float64       \n",
      "dtypes: datetime64[ns](2), float64(5), int64(1), object(8)\n",
      "memory usage: 370.7+ MB\n"
     ]
    }
   ],
   "source": [
    "df.info()"
   ]
  },
  {
   "cell_type": "code",
   "execution_count": 49,
   "metadata": {},
   "outputs": [
    {
     "data": {
      "text/html": [
       "<div>\n",
       "<style scoped>\n",
       "    .dataframe tbody tr th:only-of-type {\n",
       "        vertical-align: middle;\n",
       "    }\n",
       "\n",
       "    .dataframe tbody tr th {\n",
       "        vertical-align: top;\n",
       "    }\n",
       "\n",
       "    .dataframe thead th {\n",
       "        text-align: right;\n",
       "    }\n",
       "</style>\n",
       "<table border=\"1\" class=\"dataframe\">\n",
       "  <thead>\n",
       "    <tr style=\"text-align: right;\">\n",
       "      <th></th>\n",
       "      <th>duration_sec</th>\n",
       "      <th>start_time</th>\n",
       "      <th>end_time</th>\n",
       "      <th>start_station_id</th>\n",
       "      <th>start_station_name</th>\n",
       "      <th>start_station_latitude</th>\n",
       "      <th>start_station_longitude</th>\n",
       "      <th>end_station_id</th>\n",
       "      <th>end_station_name</th>\n",
       "      <th>end_station_latitude</th>\n",
       "      <th>end_station_longitude</th>\n",
       "      <th>bike_id</th>\n",
       "      <th>user_type</th>\n",
       "      <th>bike_share_for_all_trip</th>\n",
       "      <th>rental_access_method</th>\n",
       "      <th>duration_hour</th>\n",
       "      <th>year</th>\n",
       "      <th>month</th>\n",
       "      <th>day_week</th>\n",
       "      <th>hour</th>\n",
       "      <th>distance</th>\n",
       "      <th>month_end</th>\n",
       "      <th>day_week_end</th>\n",
       "      <th>hour_end</th>\n",
       "    </tr>\n",
       "  </thead>\n",
       "  <tbody>\n",
       "    <tr>\n",
       "      <th>0</th>\n",
       "      <td>53588</td>\n",
       "      <td>2019-03-31 20:59:21.878</td>\n",
       "      <td>2019-04-01 11:52:30.200</td>\n",
       "      <td>377.0</td>\n",
       "      <td>Fell St at Stanyan St</td>\n",
       "      <td>37.771917</td>\n",
       "      <td>-122.453704</td>\n",
       "      <td>377.0</td>\n",
       "      <td>Fell St at Stanyan St</td>\n",
       "      <td>37.771917</td>\n",
       "      <td>-122.453704</td>\n",
       "      <td>6803</td>\n",
       "      <td>Subscriber</td>\n",
       "      <td>No</td>\n",
       "      <td>NaN</td>\n",
       "      <td>148.855556</td>\n",
       "      <td>2019</td>\n",
       "      <td>3</td>\n",
       "      <td>6</td>\n",
       "      <td>20</td>\n",
       "      <td>0.000000</td>\n",
       "      <td>4</td>\n",
       "      <td>0</td>\n",
       "      <td>11</td>\n",
       "    </tr>\n",
       "    <tr>\n",
       "      <th>1</th>\n",
       "      <td>74305</td>\n",
       "      <td>2019-03-31 13:56:46.005</td>\n",
       "      <td>2019-04-01 10:35:11.454</td>\n",
       "      <td>385.0</td>\n",
       "      <td>Woolsey St at Sacramento St</td>\n",
       "      <td>37.850578</td>\n",
       "      <td>-122.278175</td>\n",
       "      <td>233.0</td>\n",
       "      <td>4th Ave at E 12th St (Temporary Location)</td>\n",
       "      <td>37.795913</td>\n",
       "      <td>-122.255547</td>\n",
       "      <td>6415</td>\n",
       "      <td>Subscriber</td>\n",
       "      <td>No</td>\n",
       "      <td>NaN</td>\n",
       "      <td>206.402778</td>\n",
       "      <td>2019</td>\n",
       "      <td>3</td>\n",
       "      <td>6</td>\n",
       "      <td>13</td>\n",
       "      <td>6.386122</td>\n",
       "      <td>4</td>\n",
       "      <td>0</td>\n",
       "      <td>10</td>\n",
       "    </tr>\n",
       "    <tr>\n",
       "      <th>2</th>\n",
       "      <td>79789</td>\n",
       "      <td>2019-03-31 11:48:34.201</td>\n",
       "      <td>2019-04-01 09:58:23.824</td>\n",
       "      <td>3.0</td>\n",
       "      <td>Powell St BART Station (Market St at 4th St)</td>\n",
       "      <td>37.786375</td>\n",
       "      <td>-122.404904</td>\n",
       "      <td>345.0</td>\n",
       "      <td>Hubbell St at 16th St</td>\n",
       "      <td>37.766483</td>\n",
       "      <td>-122.398279</td>\n",
       "      <td>2317</td>\n",
       "      <td>Customer</td>\n",
       "      <td>No</td>\n",
       "      <td>NaN</td>\n",
       "      <td>221.636111</td>\n",
       "      <td>2019</td>\n",
       "      <td>3</td>\n",
       "      <td>6</td>\n",
       "      <td>11</td>\n",
       "      <td>2.283763</td>\n",
       "      <td>4</td>\n",
       "      <td>0</td>\n",
       "      <td>9</td>\n",
       "    </tr>\n",
       "    <tr>\n",
       "      <th>3</th>\n",
       "      <td>59315</td>\n",
       "      <td>2019-03-31 16:48:54.374</td>\n",
       "      <td>2019-04-01 09:17:30.154</td>\n",
       "      <td>92.0</td>\n",
       "      <td>Mission Bay Kids Park</td>\n",
       "      <td>37.772301</td>\n",
       "      <td>-122.393028</td>\n",
       "      <td>49.0</td>\n",
       "      <td>S Park St at 3rd St</td>\n",
       "      <td>37.780760</td>\n",
       "      <td>-122.394989</td>\n",
       "      <td>6631</td>\n",
       "      <td>Customer</td>\n",
       "      <td>No</td>\n",
       "      <td>NaN</td>\n",
       "      <td>164.763889</td>\n",
       "      <td>2019</td>\n",
       "      <td>3</td>\n",
       "      <td>6</td>\n",
       "      <td>16</td>\n",
       "      <td>0.954710</td>\n",
       "      <td>4</td>\n",
       "      <td>0</td>\n",
       "      <td>9</td>\n",
       "    </tr>\n",
       "    <tr>\n",
       "      <th>4</th>\n",
       "      <td>47886</td>\n",
       "      <td>2019-03-31 19:54:24.148</td>\n",
       "      <td>2019-04-01 09:12:30.817</td>\n",
       "      <td>339.0</td>\n",
       "      <td>Jackson St at 11th St</td>\n",
       "      <td>37.800002</td>\n",
       "      <td>-122.266438</td>\n",
       "      <td>18.0</td>\n",
       "      <td>Telegraph Ave at Alcatraz Ave</td>\n",
       "      <td>37.850222</td>\n",
       "      <td>-122.260172</td>\n",
       "      <td>5241</td>\n",
       "      <td>Subscriber</td>\n",
       "      <td>No</td>\n",
       "      <td>NaN</td>\n",
       "      <td>133.016667</td>\n",
       "      <td>2019</td>\n",
       "      <td>3</td>\n",
       "      <td>6</td>\n",
       "      <td>19</td>\n",
       "      <td>5.601333</td>\n",
       "      <td>4</td>\n",
       "      <td>0</td>\n",
       "      <td>9</td>\n",
       "    </tr>\n",
       "  </tbody>\n",
       "</table>\n",
       "</div>"
      ],
      "text/plain": [
       "   duration_sec              start_time                end_time  \\\n",
       "0         53588 2019-03-31 20:59:21.878 2019-04-01 11:52:30.200   \n",
       "1         74305 2019-03-31 13:56:46.005 2019-04-01 10:35:11.454   \n",
       "2         79789 2019-03-31 11:48:34.201 2019-04-01 09:58:23.824   \n",
       "3         59315 2019-03-31 16:48:54.374 2019-04-01 09:17:30.154   \n",
       "4         47886 2019-03-31 19:54:24.148 2019-04-01 09:12:30.817   \n",
       "\n",
       "  start_station_id                            start_station_name  \\\n",
       "0            377.0                         Fell St at Stanyan St   \n",
       "1            385.0                   Woolsey St at Sacramento St   \n",
       "2              3.0  Powell St BART Station (Market St at 4th St)   \n",
       "3             92.0                         Mission Bay Kids Park   \n",
       "4            339.0                         Jackson St at 11th St   \n",
       "\n",
       "   start_station_latitude  start_station_longitude end_station_id  \\\n",
       "0               37.771917              -122.453704          377.0   \n",
       "1               37.850578              -122.278175          233.0   \n",
       "2               37.786375              -122.404904          345.0   \n",
       "3               37.772301              -122.393028           49.0   \n",
       "4               37.800002              -122.266438           18.0   \n",
       "\n",
       "                            end_station_name  end_station_latitude  \\\n",
       "0                      Fell St at Stanyan St             37.771917   \n",
       "1  4th Ave at E 12th St (Temporary Location)             37.795913   \n",
       "2                      Hubbell St at 16th St             37.766483   \n",
       "3                        S Park St at 3rd St             37.780760   \n",
       "4              Telegraph Ave at Alcatraz Ave             37.850222   \n",
       "\n",
       "   end_station_longitude bike_id   user_type bike_share_for_all_trip  \\\n",
       "0            -122.453704    6803  Subscriber                      No   \n",
       "1            -122.255547    6415  Subscriber                      No   \n",
       "2            -122.398279    2317    Customer                      No   \n",
       "3            -122.394989    6631    Customer                      No   \n",
       "4            -122.260172    5241  Subscriber                      No   \n",
       "\n",
       "  rental_access_method  duration_hour  year  month  day_week  hour  distance  \\\n",
       "0                  NaN     148.855556  2019      3         6    20  0.000000   \n",
       "1                  NaN     206.402778  2019      3         6    13  6.386122   \n",
       "2                  NaN     221.636111  2019      3         6    11  2.283763   \n",
       "3                  NaN     164.763889  2019      3         6    16  0.954710   \n",
       "4                  NaN     133.016667  2019      3         6    19  5.601333   \n",
       "\n",
       "   month_end  day_week_end  hour_end  \n",
       "0          4             0        11  \n",
       "1          4             0        10  \n",
       "2          4             0         9  \n",
       "3          4             0         9  \n",
       "4          4             0         9  "
      ]
     },
     "execution_count": 49,
     "metadata": {},
     "output_type": "execute_result"
    }
   ],
   "source": [
    "#Get day of week (Monday=0), month and time of the day (hour)\n",
    "df['year'] = df['start_time'].dt.year\n",
    "df['month'] = df['start_time'].dt.month\n",
    "df['day_week'] = (df['start_time']).dt.weekday\n",
    "df['hour'] = df['start_time'].dt.hour\n",
    "\n",
    "df['day_week_end'] = (df['end_time']).dt.weekday\n",
    "df['hour_end'] = df['end_time'].dt.hour\n",
    "df.head()"
   ]
  },
  {
   "cell_type": "code",
   "execution_count": 128,
   "metadata": {},
   "outputs": [
    {
     "data": {
      "image/png": "[encoded data removed]",
      "text/plain": [
       "<Figure size 432x288 with 1 Axes>"
      ]
     },
     "metadata": {
      "needs_background": "light"
     },
     "output_type": "display_data"
    }
   ],
   "source": [
    "# Standard bar plot\n",
    "base_color1 = sb.color_palette()[1] \n",
    "sb.countplot(data = df, x= \"month\", color=base_color1);\n",
    "plt.xlabel('Month')\n",
    "plt.ylabel('Number of Rides');"
   ]
  },
  {
   "cell_type": "code",
   "execution_count": 127,
   "metadata": {},
   "outputs": [
    {
     "data": {
      "image/png": "[encoded data removed]",
      "text/plain": [
       "<Figure size 432x288 with 1 Axes>"
      ]
     },
     "metadata": {
      "needs_background": "light"
     },
     "output_type": "display_data"
    }
   ],
   "source": [
    "base_color2 = sb.color_palette()[2] \n",
    "sb.countplot(data = df, x= \"hour\", color=base_color2);\n",
    "plt.xlabel('Time of the day (hour)')\n",
    "plt.ylabel('Number of Rides');"
   ]
  },
  {
   "cell_type": "code",
   "execution_count": 129,
   "metadata": {},
   "outputs": [
    {
     "data": {
      "image/png": "[encoded data removed]",
      "text/plain": [
       "<Figure size 432x288 with 1 Axes>"
      ]
     },
     "metadata": {
      "needs_background": "light"
     },
     "output_type": "display_data"
    }
   ],
   "source": [
    "sb.countplot(data = df, x= \"hour_end\", color=base_color2);\n",
    "plt.xlabel('Time of the day (hour)')\n",
    "plt.ylabel('Number of Rides');"
   ]
  },
  {
   "cell_type": "code",
   "execution_count": 130,
   "metadata": {},
   "outputs": [
    {
     "data": {
      "image/png": "[encoded data removed]",
      "text/plain": [
       "<Figure size 432x288 with 1 Axes>"
      ]
     },
     "metadata": {
      "needs_background": "light"
     },
     "output_type": "display_data"
    }
   ],
   "source": [
    "base_color3 = sb.color_palette()[3] \n",
    "sb.countplot(data = df, x= \"day_week\", color=base_color3);\n",
    "plt.xlabel('Day')\n",
    "plt.ylabel('Number of Rides')\n",
    "plt.xticks([0, 1, 2, 3, 4, 5, 6], ['Monday', 'Tuesday', 'Wednesday', 'Thursday', 'Friday', 'Staurday', 'Sunday'], rotation=20) ;"
   ]
  },
  {
   "cell_type": "code",
   "execution_count": 131,
   "metadata": {},
   "outputs": [
    {
     "data": {
      "image/png": "[encoded data removed]",
      "text/plain": [
       "<Figure size 432x288 with 1 Axes>"
      ]
     },
     "metadata": {
      "needs_background": "light"
     },
     "output_type": "display_data"
    }
   ],
   "source": [
    "sb.countplot(data = df, x= \"day_week_end\", color=base_color3);\n",
    "plt.xlabel('Day')\n",
    "plt.ylabel('Number of Rides')\n",
    "plt.xticks([0, 1, 2, 3, 4, 5, 6], ['Monday', 'Tuesday', 'Wednesday', 'Thursday', 'Friday', 'Staurday', 'Sunday'], rotation=20) ;"
   ]
  },
  {
   "cell_type": "code",
   "execution_count": 30,
   "metadata": {},
   "outputs": [],
   "source": [
    "#Get distance between the start and end stations\n",
    "def distancer(row):\n",
    "    coords_1 = (row['start_station_latitude'], row['start_station_longitude'])\n",
    "    coords_2 = (row['end_station_latitude'], row['end_station_longitude'])\n",
    "    return geopy.distance.distance(coords_1, coords_2).kilometers\n",
    "\n",
    "df['distance'] = df.apply(distancer, axis=1)"
   ]
  },
  {
   "cell_type": "code",
   "execution_count": 42,
   "metadata": {},
   "outputs": [
    {
     "data": {
      "text/html": [
       "<div>\n",
       "<style scoped>\n",
       "    .dataframe tbody tr th:only-of-type {\n",
       "        vertical-align: middle;\n",
       "    }\n",
       "\n",
       "    .dataframe tbody tr th {\n",
       "        vertical-align: top;\n",
       "    }\n",
       "\n",
       "    .dataframe thead th {\n",
       "        text-align: right;\n",
       "    }\n",
       "</style>\n",
       "<table border=\"1\" class=\"dataframe\">\n",
       "  <thead>\n",
       "    <tr style=\"text-align: right;\">\n",
       "      <th></th>\n",
       "      <th>duration_sec</th>\n",
       "      <th>start_time</th>\n",
       "      <th>end_time</th>\n",
       "      <th>start_station_id</th>\n",
       "      <th>start_station_name</th>\n",
       "      <th>start_station_latitude</th>\n",
       "      <th>start_station_longitude</th>\n",
       "      <th>end_station_id</th>\n",
       "      <th>end_station_name</th>\n",
       "      <th>end_station_latitude</th>\n",
       "      <th>end_station_longitude</th>\n",
       "      <th>bike_id</th>\n",
       "      <th>user_type</th>\n",
       "      <th>bike_share_for_all_trip</th>\n",
       "      <th>rental_access_method</th>\n",
       "      <th>duration_hour</th>\n",
       "      <th>year</th>\n",
       "      <th>month</th>\n",
       "      <th>day_week</th>\n",
       "      <th>hour</th>\n",
       "      <th>distance</th>\n",
       "    </tr>\n",
       "  </thead>\n",
       "  <tbody>\n",
       "    <tr>\n",
       "      <th>0</th>\n",
       "      <td>53588</td>\n",
       "      <td>2019-03-31 20:59:21.878</td>\n",
       "      <td>2019-04-01 11:52:30.200</td>\n",
       "      <td>377.0</td>\n",
       "      <td>Fell St at Stanyan St</td>\n",
       "      <td>37.771917</td>\n",
       "      <td>-122.453704</td>\n",
       "      <td>377.0</td>\n",
       "      <td>Fell St at Stanyan St</td>\n",
       "      <td>37.771917</td>\n",
       "      <td>-122.453704</td>\n",
       "      <td>6803</td>\n",
       "      <td>Subscriber</td>\n",
       "      <td>No</td>\n",
       "      <td>NaN</td>\n",
       "      <td>148.855556</td>\n",
       "      <td>2019</td>\n",
       "      <td>3</td>\n",
       "      <td>6</td>\n",
       "      <td>20</td>\n",
       "      <td>0.000000</td>\n",
       "    </tr>\n",
       "    <tr>\n",
       "      <th>1</th>\n",
       "      <td>74305</td>\n",
       "      <td>2019-03-31 13:56:46.005</td>\n",
       "      <td>2019-04-01 10:35:11.454</td>\n",
       "      <td>385.0</td>\n",
       "      <td>Woolsey St at Sacramento St</td>\n",
       "      <td>37.850578</td>\n",
       "      <td>-122.278175</td>\n",
       "      <td>233.0</td>\n",
       "      <td>4th Ave at E 12th St (Temporary Location)</td>\n",
       "      <td>37.795913</td>\n",
       "      <td>-122.255547</td>\n",
       "      <td>6415</td>\n",
       "      <td>Subscriber</td>\n",
       "      <td>No</td>\n",
       "      <td>NaN</td>\n",
       "      <td>206.402778</td>\n",
       "      <td>2019</td>\n",
       "      <td>3</td>\n",
       "      <td>6</td>\n",
       "      <td>13</td>\n",
       "      <td>6.386122</td>\n",
       "    </tr>\n",
       "    <tr>\n",
       "      <th>2</th>\n",
       "      <td>79789</td>\n",
       "      <td>2019-03-31 11:48:34.201</td>\n",
       "      <td>2019-04-01 09:58:23.824</td>\n",
       "      <td>3.0</td>\n",
       "      <td>Powell St BART Station (Market St at 4th St)</td>\n",
       "      <td>37.786375</td>\n",
       "      <td>-122.404904</td>\n",
       "      <td>345.0</td>\n",
       "      <td>Hubbell St at 16th St</td>\n",
       "      <td>37.766483</td>\n",
       "      <td>-122.398279</td>\n",
       "      <td>2317</td>\n",
       "      <td>Customer</td>\n",
       "      <td>No</td>\n",
       "      <td>NaN</td>\n",
       "      <td>221.636111</td>\n",
       "      <td>2019</td>\n",
       "      <td>3</td>\n",
       "      <td>6</td>\n",
       "      <td>11</td>\n",
       "      <td>2.283763</td>\n",
       "    </tr>\n",
       "    <tr>\n",
       "      <th>3</th>\n",
       "      <td>59315</td>\n",
       "      <td>2019-03-31 16:48:54.374</td>\n",
       "      <td>2019-04-01 09:17:30.154</td>\n",
       "      <td>92.0</td>\n",
       "      <td>Mission Bay Kids Park</td>\n",
       "      <td>37.772301</td>\n",
       "      <td>-122.393028</td>\n",
       "      <td>49.0</td>\n",
       "      <td>S Park St at 3rd St</td>\n",
       "      <td>37.780760</td>\n",
       "      <td>-122.394989</td>\n",
       "      <td>6631</td>\n",
       "      <td>Customer</td>\n",
       "      <td>No</td>\n",
       "      <td>NaN</td>\n",
       "      <td>164.763889</td>\n",
       "      <td>2019</td>\n",
       "      <td>3</td>\n",
       "      <td>6</td>\n",
       "      <td>16</td>\n",
       "      <td>0.954710</td>\n",
       "    </tr>\n",
       "    <tr>\n",
       "      <th>4</th>\n",
       "      <td>47886</td>\n",
       "      <td>2019-03-31 19:54:24.148</td>\n",
       "      <td>2019-04-01 09:12:30.817</td>\n",
       "      <td>339.0</td>\n",
       "      <td>Jackson St at 11th St</td>\n",
       "      <td>37.800002</td>\n",
       "      <td>-122.266438</td>\n",
       "      <td>18.0</td>\n",
       "      <td>Telegraph Ave at Alcatraz Ave</td>\n",
       "      <td>37.850222</td>\n",
       "      <td>-122.260172</td>\n",
       "      <td>5241</td>\n",
       "      <td>Subscriber</td>\n",
       "      <td>No</td>\n",
       "      <td>NaN</td>\n",
       "      <td>133.016667</td>\n",
       "      <td>2019</td>\n",
       "      <td>3</td>\n",
       "      <td>6</td>\n",
       "      <td>19</td>\n",
       "      <td>5.601333</td>\n",
       "    </tr>\n",
       "  </tbody>\n",
       "</table>\n",
       "</div>"
      ],
      "text/plain": [
       "   duration_sec              start_time                end_time  \\\n",
       "0         53588 2019-03-31 20:59:21.878 2019-04-01 11:52:30.200   \n",
       "1         74305 2019-03-31 13:56:46.005 2019-04-01 10:35:11.454   \n",
       "2         79789 2019-03-31 11:48:34.201 2019-04-01 09:58:23.824   \n",
       "3         59315 2019-03-31 16:48:54.374 2019-04-01 09:17:30.154   \n",
       "4         47886 2019-03-31 19:54:24.148 2019-04-01 09:12:30.817   \n",
       "\n",
       "  start_station_id                            start_station_name  \\\n",
       "0            377.0                         Fell St at Stanyan St   \n",
       "1            385.0                   Woolsey St at Sacramento St   \n",
       "2              3.0  Powell St BART Station (Market St at 4th St)   \n",
       "3             92.0                         Mission Bay Kids Park   \n",
       "4            339.0                         Jackson St at 11th St   \n",
       "\n",
       "   start_station_latitude  start_station_longitude end_station_id  \\\n",
       "0               37.771917              -122.453704          377.0   \n",
       "1               37.850578              -122.278175          233.0   \n",
       "2               37.786375              -122.404904          345.0   \n",
       "3               37.772301              -122.393028           49.0   \n",
       "4               37.800002              -122.266438           18.0   \n",
       "\n",
       "                            end_station_name  end_station_latitude  \\\n",
       "0                      Fell St at Stanyan St             37.771917   \n",
       "1  4th Ave at E 12th St (Temporary Location)             37.795913   \n",
       "2                      Hubbell St at 16th St             37.766483   \n",
       "3                        S Park St at 3rd St             37.780760   \n",
       "4              Telegraph Ave at Alcatraz Ave             37.850222   \n",
       "\n",
       "   end_station_longitude bike_id   user_type bike_share_for_all_trip  \\\n",
       "0            -122.453704    6803  Subscriber                      No   \n",
       "1            -122.255547    6415  Subscriber                      No   \n",
       "2            -122.398279    2317    Customer                      No   \n",
       "3            -122.394989    6631    Customer                      No   \n",
       "4            -122.260172    5241  Subscriber                      No   \n",
       "\n",
       "  rental_access_method  duration_hour  year  month  day_week  hour  distance  \n",
       "0                  NaN     148.855556  2019      3         6    20  0.000000  \n",
       "1                  NaN     206.402778  2019      3         6    13  6.386122  \n",
       "2                  NaN     221.636111  2019      3         6    11  2.283763  \n",
       "3                  NaN     164.763889  2019      3         6    16  0.954710  \n",
       "4                  NaN     133.016667  2019      3         6    19  5.601333  "
      ]
     },
     "execution_count": 42,
     "metadata": {},
     "output_type": "execute_result"
    }
   ],
   "source": [
    "df.head()"
   ]
  },
  {
   "cell_type": "code",
   "execution_count": 31,
   "metadata": {},
   "outputs": [
    {
     "data": {
      "image/png": "[encoded data removed]",
      "text/plain": [
       "<Figure size 576x360 with 1 Axes>"
      ]
     },
     "metadata": {
      "needs_background": "light"
     },
     "output_type": "display_data"
    }
   ],
   "source": [
    "# Standard-scaled plot\n",
    "bins = np.arange(0, df['distance'].max()+1, 1)\n",
    "plt.figure(figsize=[8, 5])\n",
    "plt.hist(data = df, x = 'distance', bins = bins)\n",
    "plt.ylabel('Number of Rides')\n",
    "plt.xlabel('Distance')\n",
    "plt.show()"
   ]
  },
  {
   "cell_type": "code",
   "execution_count": 123,
   "metadata": {},
   "outputs": [
    {
     "data": {
      "image/png": "[encoded data removed]",
      "text/plain": [
       "<Figure size 576x360 with 1 Axes>"
      ]
     },
     "metadata": {
      "needs_background": "light"
     },
     "output_type": "display_data"
    }
   ],
   "source": [
    "#There seem to be some outliers - let's zoom in the distance\n",
    "bins = np.arange(0, 20, 0.5)\n",
    "plt.figure(figsize=[8, 5])\n",
    "plt.hist(data = df, x = 'distance', bins = bins)\n",
    "plt.xlabel('Distance (km)')\n",
    "plt.ylabel('Number of Rides')\n",
    "plt.show()"
   ]
  },
  {
   "cell_type": "code",
   "execution_count": 34,
   "metadata": {},
   "outputs": [
    {
     "data": {
      "text/html": [
       "<div>\n",
       "<style scoped>\n",
       "    .dataframe tbody tr th:only-of-type {\n",
       "        vertical-align: middle;\n",
       "    }\n",
       "\n",
       "    .dataframe tbody tr th {\n",
       "        vertical-align: top;\n",
       "    }\n",
       "\n",
       "    .dataframe thead th {\n",
       "        text-align: right;\n",
       "    }\n",
       "</style>\n",
       "<table border=\"1\" class=\"dataframe\">\n",
       "  <thead>\n",
       "    <tr style=\"text-align: right;\">\n",
       "      <th></th>\n",
       "      <th>duration_sec</th>\n",
       "      <th>start_time</th>\n",
       "      <th>end_time</th>\n",
       "      <th>start_station_id</th>\n",
       "      <th>start_station_name</th>\n",
       "      <th>start_station_latitude</th>\n",
       "      <th>start_station_longitude</th>\n",
       "      <th>end_station_id</th>\n",
       "      <th>end_station_name</th>\n",
       "      <th>end_station_latitude</th>\n",
       "      <th>end_station_longitude</th>\n",
       "      <th>bike_id</th>\n",
       "      <th>user_type</th>\n",
       "      <th>bike_share_for_all_trip</th>\n",
       "      <th>rental_access_method</th>\n",
       "      <th>duration_hour</th>\n",
       "      <th>year</th>\n",
       "      <th>month</th>\n",
       "      <th>day_week</th>\n",
       "      <th>hour</th>\n",
       "      <th>distance</th>\n",
       "    </tr>\n",
       "  </thead>\n",
       "  <tbody>\n",
       "    <tr>\n",
       "      <th>1804953</th>\n",
       "      <td>66037</td>\n",
       "      <td>2019-11-25 16:40:51.382</td>\n",
       "      <td>2019-11-26 11:01:28.665</td>\n",
       "      <td>485.0</td>\n",
       "      <td>Funston Ave at Fulton St</td>\n",
       "      <td>37.773263</td>\n",
       "      <td>-122.471230</td>\n",
       "      <td>449.0</td>\n",
       "      <td>16th Depot Bike Fleet Station</td>\n",
       "      <td>0.0</td>\n",
       "      <td>0.0</td>\n",
       "      <td>12577</td>\n",
       "      <td>Customer</td>\n",
       "      <td>No</td>\n",
       "      <td>NaN</td>\n",
       "      <td>183.436111</td>\n",
       "      <td>2019</td>\n",
       "      <td>11</td>\n",
       "      <td>0</td>\n",
       "      <td>16</td>\n",
       "      <td>12809.890661</td>\n",
       "    </tr>\n",
       "    <tr>\n",
       "      <th>2483652</th>\n",
       "      <td>13378</td>\n",
       "      <td>2020-02-16 16:50:51.408</td>\n",
       "      <td>2020-02-16 20:33:49.448</td>\n",
       "      <td>485.0</td>\n",
       "      <td>Funston Ave at Fulton St</td>\n",
       "      <td>37.773263</td>\n",
       "      <td>-122.471230</td>\n",
       "      <td>449.0</td>\n",
       "      <td>16th Depot Bike Fleet Station</td>\n",
       "      <td>0.0</td>\n",
       "      <td>0.0</td>\n",
       "      <td>9612</td>\n",
       "      <td>Customer</td>\n",
       "      <td>NaN</td>\n",
       "      <td>NaN</td>\n",
       "      <td>37.161111</td>\n",
       "      <td>2020</td>\n",
       "      <td>2</td>\n",
       "      <td>6</td>\n",
       "      <td>16</td>\n",
       "      <td>12809.890661</td>\n",
       "    </tr>\n",
       "    <tr>\n",
       "      <th>271585</th>\n",
       "      <td>1491</td>\n",
       "      <td>2019-04-28 18:40:41.288</td>\n",
       "      <td>2019-04-28 19:05:33.063</td>\n",
       "      <td>377.0</td>\n",
       "      <td>Fell St at Stanyan St</td>\n",
       "      <td>37.771917</td>\n",
       "      <td>-122.453704</td>\n",
       "      <td>420.0</td>\n",
       "      <td>SF Test Station</td>\n",
       "      <td>0.0</td>\n",
       "      <td>0.0</td>\n",
       "      <td>150</td>\n",
       "      <td>Customer</td>\n",
       "      <td>No</td>\n",
       "      <td>NaN</td>\n",
       "      <td>4.141667</td>\n",
       "      <td>2019</td>\n",
       "      <td>4</td>\n",
       "      <td>6</td>\n",
       "      <td>18</td>\n",
       "      <td>12808.508332</td>\n",
       "    </tr>\n",
       "    <tr>\n",
       "      <th>271786</th>\n",
       "      <td>1503</td>\n",
       "      <td>2019-04-28 17:52:22.210</td>\n",
       "      <td>2019-04-28 18:17:25.545</td>\n",
       "      <td>377.0</td>\n",
       "      <td>Fell St at Stanyan St</td>\n",
       "      <td>37.771917</td>\n",
       "      <td>-122.453704</td>\n",
       "      <td>420.0</td>\n",
       "      <td>SF Test Station</td>\n",
       "      <td>0.0</td>\n",
       "      <td>0.0</td>\n",
       "      <td>901</td>\n",
       "      <td>Subscriber</td>\n",
       "      <td>No</td>\n",
       "      <td>NaN</td>\n",
       "      <td>4.175000</td>\n",
       "      <td>2019</td>\n",
       "      <td>4</td>\n",
       "      <td>6</td>\n",
       "      <td>17</td>\n",
       "      <td>12808.508332</td>\n",
       "    </tr>\n",
       "    <tr>\n",
       "      <th>271785</th>\n",
       "      <td>1501</td>\n",
       "      <td>2019-04-28 17:52:27.345</td>\n",
       "      <td>2019-04-28 18:17:28.410</td>\n",
       "      <td>377.0</td>\n",
       "      <td>Fell St at Stanyan St</td>\n",
       "      <td>37.771917</td>\n",
       "      <td>-122.453704</td>\n",
       "      <td>420.0</td>\n",
       "      <td>SF Test Station</td>\n",
       "      <td>0.0</td>\n",
       "      <td>0.0</td>\n",
       "      <td>3632</td>\n",
       "      <td>Subscriber</td>\n",
       "      <td>No</td>\n",
       "      <td>NaN</td>\n",
       "      <td>4.169444</td>\n",
       "      <td>2019</td>\n",
       "      <td>4</td>\n",
       "      <td>6</td>\n",
       "      <td>17</td>\n",
       "      <td>12808.508332</td>\n",
       "    </tr>\n",
       "  </tbody>\n",
       "</table>\n",
       "</div>"
      ],
      "text/plain": [
       "         duration_sec              start_time                end_time  \\\n",
       "1804953         66037 2019-11-25 16:40:51.382 2019-11-26 11:01:28.665   \n",
       "2483652         13378 2020-02-16 16:50:51.408 2020-02-16 20:33:49.448   \n",
       "271585           1491 2019-04-28 18:40:41.288 2019-04-28 19:05:33.063   \n",
       "271786           1503 2019-04-28 17:52:22.210 2019-04-28 18:17:25.545   \n",
       "271785           1501 2019-04-28 17:52:27.345 2019-04-28 18:17:28.410   \n",
       "\n",
       "        start_station_id        start_station_name  start_station_latitude  \\\n",
       "1804953            485.0  Funston Ave at Fulton St               37.773263   \n",
       "2483652            485.0  Funston Ave at Fulton St               37.773263   \n",
       "271585             377.0     Fell St at Stanyan St               37.771917   \n",
       "271786             377.0     Fell St at Stanyan St               37.771917   \n",
       "271785             377.0     Fell St at Stanyan St               37.771917   \n",
       "\n",
       "         start_station_longitude end_station_id  \\\n",
       "1804953              -122.471230          449.0   \n",
       "2483652              -122.471230          449.0   \n",
       "271585               -122.453704          420.0   \n",
       "271786               -122.453704          420.0   \n",
       "271785               -122.453704          420.0   \n",
       "\n",
       "                      end_station_name  end_station_latitude  \\\n",
       "1804953  16th Depot Bike Fleet Station                   0.0   \n",
       "2483652  16th Depot Bike Fleet Station                   0.0   \n",
       "271585                 SF Test Station                   0.0   \n",
       "271786                 SF Test Station                   0.0   \n",
       "271785                 SF Test Station                   0.0   \n",
       "\n",
       "         end_station_longitude bike_id   user_type bike_share_for_all_trip  \\\n",
       "1804953                    0.0   12577    Customer                      No   \n",
       "2483652                    0.0    9612    Customer                     NaN   \n",
       "271585                     0.0     150    Customer                      No   \n",
       "271786                     0.0     901  Subscriber                      No   \n",
       "271785                     0.0    3632  Subscriber                      No   \n",
       "\n",
       "        rental_access_method  duration_hour  year  month  day_week  hour  \\\n",
       "1804953                  NaN     183.436111  2019     11         0    16   \n",
       "2483652                  NaN      37.161111  2020      2         6    16   \n",
       "271585                   NaN       4.141667  2019      4         6    18   \n",
       "271786                   NaN       4.175000  2019      4         6    17   \n",
       "271785                   NaN       4.169444  2019      4         6    17   \n",
       "\n",
       "             distance  \n",
       "1804953  12809.890661  \n",
       "2483652  12809.890661  \n",
       "271585   12808.508332  \n",
       "271786   12808.508332  \n",
       "271785   12808.508332  "
      ]
     },
     "execution_count": 34,
     "metadata": {},
     "output_type": "execute_result"
    }
   ],
   "source": [
    "df.sort_values('distance', ascending=False).head(5)"
   ]
  },
  {
   "cell_type": "code",
   "execution_count": 93,
   "metadata": {},
   "outputs": [],
   "source": [
    "#Remove outliers\n",
    "df2 = df[(df.duration_hour < 17) & (df.distance < 10)]"
   ]
  },
  {
   "cell_type": "code",
   "execution_count": 97,
   "metadata": {},
   "outputs": [
    {
     "data": {
      "text/html": [
       "<div>\n",
       "<style scoped>\n",
       "    .dataframe tbody tr th:only-of-type {\n",
       "        vertical-align: middle;\n",
       "    }\n",
       "\n",
       "    .dataframe tbody tr th {\n",
       "        vertical-align: top;\n",
       "    }\n",
       "\n",
       "    .dataframe thead th {\n",
       "        text-align: right;\n",
       "    }\n",
       "</style>\n",
       "<table border=\"1\" class=\"dataframe\">\n",
       "  <thead>\n",
       "    <tr style=\"text-align: right;\">\n",
       "      <th></th>\n",
       "      <th>duration_sec</th>\n",
       "      <th>start_time</th>\n",
       "      <th>end_time</th>\n",
       "      <th>start_station_id</th>\n",
       "      <th>start_station_name</th>\n",
       "      <th>start_station_latitude</th>\n",
       "      <th>start_station_longitude</th>\n",
       "      <th>end_station_id</th>\n",
       "      <th>end_station_name</th>\n",
       "      <th>end_station_latitude</th>\n",
       "      <th>end_station_longitude</th>\n",
       "      <th>bike_id</th>\n",
       "      <th>user_type</th>\n",
       "      <th>bike_share_for_all_trip</th>\n",
       "      <th>rental_access_method</th>\n",
       "      <th>duration_hour</th>\n",
       "      <th>year</th>\n",
       "      <th>month</th>\n",
       "      <th>day_week</th>\n",
       "      <th>hour</th>\n",
       "      <th>distance</th>\n",
       "      <th>month_end</th>\n",
       "      <th>day_week_end</th>\n",
       "      <th>hour_end</th>\n",
       "    </tr>\n",
       "  </thead>\n",
       "  <tbody>\n",
       "  </tbody>\n",
       "</table>\n",
       "</div>"
      ],
      "text/plain": [
       "Empty DataFrame\n",
       "Columns: [duration_sec, start_time, end_time, start_station_id, start_station_name, start_station_latitude, start_station_longitude, end_station_id, end_station_name, end_station_latitude, end_station_longitude, bike_id, user_type, bike_share_for_all_trip, rental_access_method, duration_hour, year, month, day_week, hour, distance, month_end, day_week_end, hour_end]\n",
       "Index: []"
      ]
     },
     "execution_count": 97,
     "metadata": {},
     "output_type": "execute_result"
    }
   ],
   "source": [
    "#Check that entries with wrong latitudes or longitudes were excluded\n",
    "df2.query('start_station_longitude == 0 or end_station_longitude == 0 or start_station_latitude == 0 or end_station_latitude == 0')"
   ]
  },
  {
   "cell_type": "code",
   "execution_count": 69,
   "metadata": {},
   "outputs": [
    {
     "data": {
      "text/plain": [
       "Text(0, 0.5, 'Number of Rides')"
      ]
     },
     "execution_count": 69,
     "metadata": {},
     "output_type": "execute_result"
    },
    {
     "data": {
      "image/png": "[encoded data removed]",
      "text/plain": [
       "<Figure size 432x288 with 1 Axes>"
      ]
     },
     "metadata": {
      "needs_background": "light"
     },
     "output_type": "display_data"
    }
   ],
   "source": [
    "#Number of rides by user type\n",
    "base_color = sb.color_palette()[0] \n",
    "sb.countplot(data = df2, x= \"user_type\", color=base_color);\n",
    "plt.xlabel('User Type')\n",
    "plt.ylabel('Number of Rides');"
   ]
  },
  {
   "cell_type": "code",
   "execution_count": 37,
   "metadata": {},
   "outputs": [
    {
     "data": {
      "text/plain": [
       "14382"
      ]
     },
     "execution_count": 37,
     "metadata": {},
     "output_type": "execute_result"
    }
   ],
   "source": [
    "df.bike_id.nunique()"
   ]
  },
  {
   "cell_type": "markdown",
   "metadata": {},
   "source": [
    "### Discuss the distribution(s) of your variable(s) of interest. Were there any unusual points? Did you need to perform any transformations?\n",
    "\n",
    "> The range of values for the duration of the rides is quite big, ranging from 6 seconds to more than 900000 seconds (~2500 hours, ~104 days). However, the peak seems to be between 1h and 2h.\n",
    "\n",
    "> There are two types of costumers: subscribers and non-subscribers/\"customer\"\n",
    "\n",
    "> There are two ways of renting a bike: App or Clipper\n",
    "\n",
    "> According to the data, there are 14382 bikes in this bikesharing system\n",
    "\n",
    "> The most common trajectory is from Berry St at 4th St to San Francisco Ferry Building (Harry Bridges Plaza) (4697 rides), followed by from San Francisco Ferry Building (Harry Bridges Plaza) to The Embarcadero at Sansome St (4617 rides).\n",
    "\n",
    "> The most popular station is San Francisco Caltrain (Townsend St at 4th St), with 57994 rides ending there and 44977 starting there.\n",
    "\n",
    "### Of the features you investigated, were there any unusual distributions? Did you perform any operations on the data to tidy, adjust, or change the form of the data? If so, why did you do this?\n",
    "> I converted bike_id, start_station_id and end_station_id to strings and start_time and end_time to datetime. I also split the start_time into hour, day of the week and year. I'll base most of the analysis regarding times on the start time of the ride.  \n",
    "\n",
    "> I created a new column with ride duration in hours, so that is easier to interpret (than seconds). I also calculated distances betweent start station and end station. Of course, that doesn't mean that that was the total distance of the ride, but gives us an idea of how far the customer went. For some stations, latitude and longitude data is not correct leading to wrong distances. I ignored these when analysing distances. \n",
    "\n",
    "> The duration for some rides is quite high. We're trying to understand the utilization of the bikes and some people might actually keep them for longer periods, it doesn't necessarily mean that the data is wrong. If we notice that too many people are keeping their bikes for long periods, the company might want to create a new strategy for these customers. However, this doesn't seem the case, as these cases represent a very small percentage of all rides, so I excluded them (excluded rides longer than 17 hours). I did the same for distance - excluded rides of more than 10km. \n",
    "\n",
    "> Considering the start time of the rides, the most \"busy\" times are in the morning (between 7am and 9am) and in the afternoon (between 4pm and 6pm). Weekdays seem to be the busiest, confirming my expectations. The busiest months, this is, the months with a higher number of rides are February and March. \n",
    "\n",
    "> The number of subscribers' rides is more than twice the number of rides of customers that are not subscribers. "
   ]
  },
  {
   "cell_type": "markdown",
   "metadata": {},
   "source": [
    "## Bivariate Exploration\n",
    "\n",
    "In this section, I'll focus on user types."
   ]
  },
  {
   "cell_type": "code",
   "execution_count": 38,
   "metadata": {},
   "outputs": [
    {
     "name": "stdout",
     "output_type": "stream",
     "text": [
      "<class 'pandas.core.frame.DataFrame'>\n",
      "Int64Index: 3020161 entries, 11 to 3036495\n",
      "Data columns (total 21 columns):\n",
      " #   Column                   Dtype         \n",
      "---  ------                   -----         \n",
      " 0   duration_sec             int64         \n",
      " 1   start_time               datetime64[ns]\n",
      " 2   end_time                 datetime64[ns]\n",
      " 3   start_station_id         object        \n",
      " 4   start_station_name       object        \n",
      " 5   start_station_latitude   float64       \n",
      " 6   start_station_longitude  float64       \n",
      " 7   end_station_id           object        \n",
      " 8   end_station_name         object        \n",
      " 9   end_station_latitude     float64       \n",
      " 10  end_station_longitude    float64       \n",
      " 11  bike_id                  object        \n",
      " 12  user_type                object        \n",
      " 13  bike_share_for_all_trip  object        \n",
      " 14  rental_access_method     object        \n",
      " 15  duration_hour            float64       \n",
      " 16  year                     int64         \n",
      " 17  month                    int64         \n",
      " 18  day_week                 int64         \n",
      " 19  hour                     int64         \n",
      " 20  distance                 float64       \n",
      "dtypes: datetime64[ns](2), float64(6), int64(5), object(8)\n",
      "memory usage: 506.9+ MB\n"
     ]
    }
   ],
   "source": [
    "df2.info()"
   ]
  },
  {
   "cell_type": "code",
   "execution_count": 135,
   "metadata": {},
   "outputs": [
    {
     "data": {
      "text/plain": [
       "Text(0, 0.5, 'Ride Duration (hour)')"
      ]
     },
     "execution_count": 135,
     "metadata": {},
     "output_type": "execute_result"
    },
    {
     "data": {
      "image/png": "[encoded data removed]",
      "text/plain": [
       "<Figure size 432x288 with 1 Axes>"
      ]
     },
     "metadata": {
      "needs_background": "light"
     },
     "output_type": "display_data"
    }
   ],
   "source": [
    "g = sb.barplot(data = df2, x = 'user_type', y = 'duration_hour', color = base_color)\n",
    "plt.xlabel('User Type')\n",
    "plt.ylabel('Ride Duration (hour)');"
   ]
  },
  {
   "cell_type": "code",
   "execution_count": 136,
   "metadata": {},
   "outputs": [
    {
     "data": {
      "image/png": "[encoded data removed]",
      "text/plain": [
       "<Figure size 432x288 with 1 Axes>"
      ]
     },
     "metadata": {
      "needs_background": "light"
     },
     "output_type": "display_data"
    }
   ],
   "source": [
    "g = sb.barplot(data = df2, x = 'user_type', y = 'distance', color = base_color)\n",
    "plt.xlabel('User Type')\n",
    "plt.ylabel('Ride Distance (km)');"
   ]
  },
  {
   "cell_type": "code",
   "execution_count": 150,
   "metadata": {},
   "outputs": [
    {
     "data": {
      "image/png": "[encoded data removed]",
      "text/plain": [
       "<Figure size 432x288 with 1 Axes>"
      ]
     },
     "metadata": {
      "needs_background": "light"
     },
     "output_type": "display_data"
    }
   ],
   "source": [
    "ax = sb.countplot(data = df2, x = 'hour', hue = 'user_type')\n",
    "ax.legend(loc = 8, ncol = 3, framealpha = 1, title = 'User Type')\n",
    "plt.xlabel('Time of the day (hour)')\n",
    "plt.ylabel('Number of rides')\n",
    "plt.legend(loc = 6, bbox_to_anchor = (1.0, 0.5));"
   ]
  },
  {
   "cell_type": "code",
   "execution_count": 155,
   "metadata": {},
   "outputs": [
    {
     "name": "stderr",
     "output_type": "stream",
     "text": [
      "No handles with labels found to put in legend.\n",
      "No handles with labels found to put in legend.\n"
     ]
    },
    {
     "data": {
      "image/png": "[encoded data removed]",
      "text/plain": [
       "<Figure size 432x288 with 1 Axes>"
      ]
     },
     "metadata": {
      "needs_background": "light"
     },
     "output_type": "display_data"
    }
   ],
   "source": [
    "ax = sb.barplot(data = df2, x = 'day_week', y= 'duration_hour', color=base_color1)\n",
    "ax.legend(loc = 8, ncol = 3, framealpha = 1, title = 'User Type')\n",
    "plt.xlabel('Day of the week')\n",
    "plt.ylabel('Duration (h)')"
   ]
  },
  {
   "cell_type": "markdown",
   "metadata": {},
   "source": [
    "### Talk about some of the relationships you observed in this part of the investigation. How did the feature(s) of interest vary with other features in the dataset?\n",
    "\n",
    "> Although the travelled distance for both user types is similar, the averge duration of the ride is higher for Customers (non subscribers). I would say that customers/non-subscribers use these bikes more for leisure. Furthermore, not being a subscriber might indicate that they are tourists or, at least, don't live in San Francisco. This might justify the difference in average ride durations:\n",
    "    - subscribers are people who work and use these bikes as a means of transportation\n",
    "    - non subscribers includes tourists, that use bikes for sightseeing (and probably stop at some places), increasing the duration of the ride although the distance is not significantly higher \n",
    "    \n",
    "> Subscribers are the main contributers for the peak of number of rides during rush hour. This reinforces my view that subscribers are probably mostly commuters. \n",
    "\n",
    "> On weekends, ride durations are longer. Maybe because people are just enjoying the ride an not rushing to work.\n",
    "\n",
    "### Did you observe any interesting relationships between the other features (not the main feature(s) of interest)?\n",
    "\n",
    "> Interestingly, average distance is higher for customers than for subscribers. One the one hand, I would expect Customers to use these bikes more for one-off situations, thus shorter distances. However, if we think that most of them might be tourists, it might actually make sense that average distance is slightly higher than for subscribers, as they might spend, for example, an entire day sightseeing, and travel a longer distance. \n",
    "\n",
    "> I wouldn't expect the variation of the number of rides during the day for customers to be so similar to those of subscribers (with less amplitude though)"
   ]
  },
  {
   "cell_type": "markdown",
   "metadata": {},
   "source": [
    "## Multivariate Exploration\n",
    "\n",
    "> Next, I will investigate possible relationships between user type, ride duration/distance and month/hour/day of week"
   ]
  },
  {
   "cell_type": "code",
   "execution_count": 139,
   "metadata": {},
   "outputs": [
    {
     "data": {
      "image/png": "[encoded data removed]",
      "text/plain": [
       "<Figure size 432x288 with 1 Axes>"
      ]
     },
     "metadata": {
      "needs_background": "light"
     },
     "output_type": "display_data"
    }
   ],
   "source": [
    "ax = sb.barplot(data = df2, x = 'month', y = 'duration_hour', hue = 'user_type')\n",
    "ax.legend(loc = 8, ncol = 3, framealpha = 1, title = 'User Type')\n",
    "plt.xlabel('Month')\n",
    "plt.ylabel('Duration (h)')\n",
    "plt.legend(loc = 6, bbox_to_anchor = (1.0, 0.5));"
   ]
  },
  {
   "cell_type": "code",
   "execution_count": 140,
   "metadata": {},
   "outputs": [
    {
     "data": {
      "image/png": "[encoded data removed]",
      "text/plain": [
       "<Figure size 432x288 with 1 Axes>"
      ]
     },
     "metadata": {
      "needs_background": "light"
     },
     "output_type": "display_data"
    }
   ],
   "source": [
    "#Multi\n",
    "ax = sb.barplot(data = df2, x = 'month', y = 'distance', hue = 'user_type', dodge=0.3)\n",
    "ax.legend(loc = 8, ncol = 3, framealpha = 1, title = 'User Type')\n",
    "plt.xlabel('Month')\n",
    "plt.ylabel('Distance (km)')\n",
    "plt.legend(loc = 6, bbox_to_anchor = (1.0, 0.5));"
   ]
  },
  {
   "cell_type": "code",
   "execution_count": 142,
   "metadata": {},
   "outputs": [
    {
     "data": {
      "image/png": "[encoded data removed]",
      "text/plain": [
       "<Figure size 432x288 with 1 Axes>"
      ]
     },
     "metadata": {
      "needs_background": "light"
     },
     "output_type": "display_data"
    }
   ],
   "source": [
    "ax = sb.barplot(data = df2, x = 'day_week', y = 'distance', hue = 'user_type')\n",
    "ax.legend(loc = 8, ncol = 3, framealpha = 1, title = 'User Type');\n",
    "plt.xlabel('Day of the week')\n",
    "plt.ylabel('Distance (km)')\n",
    "plt.legend(loc = 6, bbox_to_anchor = (1.0, 0.5));"
   ]
  },
  {
   "cell_type": "code",
   "execution_count": 143,
   "metadata": {},
   "outputs": [
    {
     "data": {
      "image/png": "[encoded data removed]",
      "text/plain": [
       "<Figure size 432x288 with 1 Axes>"
      ]
     },
     "metadata": {
      "needs_background": "light"
     },
     "output_type": "display_data"
    }
   ],
   "source": [
    "ax = sb.barplot(data = df2, x = 'day_week', y = 'duration_hour', hue = 'user_type')\n",
    "ax.legend(loc = 8, ncol = 3, framealpha = 1, title = 'User Type')\n",
    "plt.xlabel('Day of the week')\n",
    "plt.ylabel('Duration (h)')\n",
    "plt.legend(loc = 6, bbox_to_anchor = (1.0, 0.5));"
   ]
  },
  {
   "cell_type": "markdown",
   "metadata": {},
   "source": [
    "### Talk about some of the relationships you observed in this part of the investigation. Were there features that strengthened each other in terms of looking at your feature(s) of interest?\n",
    "\n",
    "> Regaring ride duration, this seems to be quite constant throughout the year for subscribers (probably commuters who use the bikes for the same journey every day). For customers, duration increases, reaching a peak between April and August. I believe that as weather gets better, people who use these bikes for leisure tend to enjoy a longer ride. Curiously, average distance for Customers seems to very slightly decrease between April and August. Maybe they are more relaxed, stop by a park and get some sun.\n",
    "\n",
    "> The ride distance and duration for subscribers is quite stable throughout the week. For customers, average duration increases by about one hour on weekends. \n",
    "\n",
    "### Were there any interesting or surprising interactions between features?\n",
    "\n",
    "> Yes, I would expect subscribers to use this service more on the weekends too.\n",
    "It is also surprising that the months with the highest number of rides are January, February and March as those are the coldest"
   ]
  },
  {
   "cell_type": "code",
   "execution_count": null,
   "metadata": {},
   "outputs": [],
   "source": []
  }
 ],
 "metadata": {
  "kernelspec": {
   "display_name": "Python 3",
   "language": "python",
   "name": "python3"
  },
  "language_info": {
   "codemirror_mode": {
    "name": "ipython",
    "version": 3
   },
   "file_extension": ".py",
   "mimetype": "text/x-python",
   "name": "python",
   "nbconvert_exporter": "python",
   "pygments_lexer": "ipython3",
   "version": "3.6.10"
  }
 },
 "nbformat": 4,
 "nbformat_minor": 2
}
